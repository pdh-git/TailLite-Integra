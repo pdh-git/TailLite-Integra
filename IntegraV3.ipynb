{
 "cells": [
  {
   "cell_type": "code",
   "execution_count": 1,
   "metadata": {
    "collapsed": false
   },
   "outputs": [],
   "source": [
    "%matplotlib inline\n",
    "\n",
    "import numpy as np\n",
    "import pandas as pd\n",
    "import matplotlib.pyplot as plt\n",
    "from ipywidgets import *\n",
    "from IPython.display import display"
   ]
  },
  {
   "cell_type": "code",
   "execution_count": 2,
   "metadata": {
    "collapsed": true
   },
   "outputs": [],
   "source": [
    "# STARTING INPUTS\n",
    "TailingTonnage = 55774649\n",
    "MissedGoldGrade = 0.3       # Estimated ppm, g/t\n",
    "UncapturedWGrade = 300      # Estimated ppm. g/t\n",
    "\n",
    "SpotGoldPrice = 1000        # USD/Oz\n",
    "SpotTungstenPrice = 320     # USD/metric ton unit of WO3\n",
    "\n",
    "FractionReprocessed = pd.DataFrame({'Reprocessed':[1, 0.9, 0.8, 0.7, 0.6, 0.5, 0.4, 0.3]})\n",
    "num_obs = 0"
   ]
  },
  {
   "cell_type": "code",
   "execution_count": 3,
   "metadata": {
    "collapsed": true
   },
   "outputs": [],
   "source": [
    "# Calculates the total value contained in the tailings\n",
    "# based on the total tonnage, mineral grades, and spot prices\n",
    "#\n",
    "# gold_grade: grade of gold left in tailings, estimated in ppm, g/t\n",
    "# gold_price: spot price of gold, in USD/Oz\n",
    "#\n",
    "# tungsten_grade: grade of tungsten (WO3) in the tailings, estimated ppm, g/t\n",
    "# tungsten_price: spot price of tungsten (WO3), in USD/metric ton unit of WO3\n",
    "#\n",
    "# returns Full value in tailings, in $Million US\n",
    "#\n",
    "def CalculateTailingValue(gold_grade,\n",
    "                          tungsten_grade,\n",
    "                          gold_price=1000,\n",
    "                          tungsten_price=320,\n",
    "                          in_millions=True):\n",
    "    \n",
    "    ValueAUPerTonneTailings = gold_grade * gold_price/31.1               # In USD/t\n",
    "    ValueWPerTonneTailings  = tungsten_grade * tungsten_price/7.93/1000  # In USD/t\n",
    "    CombinedValuePerTonne = ValueAUPerTonneTailings + ValueWPerTonneTailings\n",
    "    \n",
    "    FullValue = TailingTonnage * CombinedValuePerTonne    # In $US\n",
    "    if (in_millions):\n",
    "        FullValue = FullValue / 1000000                       # In $M US\n",
    "    \n",
    "    return FullValue;"
   ]
  },
  {
   "cell_type": "code",
   "execution_count": 4,
   "metadata": {
    "collapsed": true
   },
   "outputs": [],
   "source": [
    "# Creates a dataset that contains a the tailing value based on a fractional amount\n",
    "# of the tailings processed, and a fraction recovery amount.\n",
    "#\n",
    "# returns DataFrame of all tailing values based on fraction reprocessed and recovered.\n",
    "#\n",
    "def BuildData(tailings_value, recovery_percent, text=''):\n",
    "    df = pd.DataFrame()\n",
    "    \n",
    "    if (text == ''):\n",
    "        text = 'Obs{}_RC{}'.format(num_obs,recovery_percent)\n",
    "        \n",
    "    for i in FractionReprocessed['Reprocessed']:\n",
    "        df[text] = FractionReprocessed * tailings_value * recovery_percent\n",
    "\n",
    "    return df"
   ]
  },
  {
   "cell_type": "code",
   "execution_count": 5,
   "metadata": {
    "collapsed": true
   },
   "outputs": [],
   "source": [
    "# prepare the inputs widgets\n",
    "\n",
    "# text inputs for grade levels\n",
    "gold_label = widgets.Text('Remaining Gold Grade (in ppm, t/g)')\n",
    "gold_label.border_style = 'none'\n",
    "gold_label.disabled = True\n",
    "\n",
    "tungsten_label = widgets.Text('Remaining Tungsten Grade (in ppm, t/g)')\n",
    "tungsten_label.border_style = 'none'\n",
    "tungsten_label.disabled = True\n",
    "\n",
    "# text inputs for grade levels\n",
    "gold_grade_input = widgets.FloatText(value=0.3)      #, description='Remaining Gold Grade (in ppm, t/g)')\n",
    "tungsten_grade_input = widgets.FloatText(value=300)  #, description='Remaining Tungsten Grade (in ppm, t/g)')\n",
    "\n",
    "hbox1 = widgets.HBox([gold_label, gold_grade_input,tungsten_label, tungsten_grade_input])\n",
    "\n",
    "# slider inputs for spot prices\n",
    "gold_price_slider = widgets.FloatSlider(min=100, max=2000, value=1000,\n",
    "                                        description='Gold Spot Price ($US/Oz)') \n",
    "tungsten_price_slider = widgets.FloatSlider(min=50, max=500, value=320,\n",
    "                                            description='Tungsten Spot Price ($US/metric ton)')\n",
    "\n",
    "# add a button to refresh the chart.\n",
    "button = widgets.Button(description='Refresh Chart', background_color='lightblue')\n",
    "\n",
    "# add a recovered slider\n",
    "recovery_slider = widgets.FloatSlider(min=0, max=100, value=100,\n",
    "                                        description='Recovery Percent')\n",
    "\n",
    "interactions = widgets.VBox([hbox1, gold_price_slider, tungsten_price_slider, recovery_slider, button])"
   ]
  },
  {
   "cell_type": "code",
   "execution_count": 6,
   "metadata": {
    "collapsed": false,
    "scrolled": false
   },
   "outputs": [
    {
     "name": "stderr",
     "output_type": "stream",
     "text": [
      "C:\\Anaconda3\\lib\\site-packages\\pandas\\core\\internals.py:1031: FutureWarning: elementwise comparison failed; returning scalar instead, but in the future will perform elementwise comparison\n",
      "  return self._try_coerce_result(func(values, other))\n"
     ]
    },
    {
     "data": {
      "image/png": "[encoded data removed]",
      "text/plain": [
       "<matplotlib.figure.Figure at 0x8d2f630>"
      ]
     },
     "metadata": {},
     "output_type": "display_data"
    }
   ],
   "source": [
    "data = pd.DataFrame()\n",
    "x = FractionReprocessed['Reprocessed'].values\n",
    "\n",
    "# display the interactive controls\n",
    "display(interactions)\n",
    "\n",
    "#preparing the plot \n",
    "plots = dict()\n",
    "fig, ax = plt.subplots()\n",
    "ax.set_xlabel('Fraction of tailings reprocessed', size=14);\n",
    "ax.set_xlim(0, 1)\n",
    "ax.set_ylabel('Tailings Value (in $M US)', size=14);\n",
    "ax.set_title('Tailings Value', size=18);\n",
    "ax.grid(True)\n",
    "\n",
    "# build first set based on starting inputs\n",
    "tailings = CalculateTailingValue(gold_grade=MissedGoldGrade, tungsten_grade=UncapturedWGrade, \n",
    "                                 gold_price=SpotGoldPrice, tungsten_price=SpotTungstenPrice)\n",
    "\n",
    "text = 'Default_RC100'\n",
    "data = data.append(BuildData(tailings, 1.0, text))\n",
    "data[text] = data[text].astype(float)\n",
    "ax.plot(x, data[text], label=text)\n",
    "plt.legend()\n",
    "plt.draw()\n",
    "\n",
    "# adds the data to the chart\n",
    "def AppendData(_):\n",
    "    tailings = CalculateTailingValue(gold_grade=gold_grade_input.value,\n",
    "                          tungsten_grade=tungsten_grade_input.value,\n",
    "                          gold_price=gold_price_slider.value,\n",
    "                          tungsten_price=tungsten_price_slider.value)\n",
    "\n",
    "    text = 'Obs_RC{0:.1f}'.format(recovery_slider.value)\n",
    "    data = BuildData(tailings, recovery_slider.value/100, text)\n",
    "    data[text] = data[text].astype(float)\n",
    "    ax.plot(x, data[text], label=text)\n",
    "    plt.legend()\n",
    "    plt.draw()\n",
    "# when the button is clicked...\n",
    "button.on_click(AppendData)"
   ]
  },
  {
   "cell_type": "code",
   "execution_count": null,
   "metadata": {
    "collapsed": true
   },
   "outputs": [],
   "source": []
  }
 ],
 "metadata": {
  "kernelspec": {
   "display_name": "Python 3",
   "language": "python",
   "name": "python3"
  },
  "language_info": {
   "codemirror_mode": {
    "name": "ipython",
    "version": 3
   },
   "file_extension": ".py",
   "mimetype": "text/x-python",
   "name": "python",
   "nbconvert_exporter": "python",
   "pygments_lexer": "ipython3",
   "version": "3.4.3"
  }
 },
 "nbformat": 4,
 "nbformat_minor": 0
}
