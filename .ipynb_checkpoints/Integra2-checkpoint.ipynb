{
 "cells": [
  {
   "cell_type": "code",
   "execution_count": 1,
   "metadata": {
    "collapsed": false
   },
   "outputs": [
    {
     "name": "stderr",
     "output_type": "stream",
     "text": [
      "C:\\Anaconda3\\lib\\site-packages\\IPython\\html.py:14: ShimWarning:\n",
      "\n",
      "The `IPython.html` package has been deprecated. You should import from `notebook` instead. `IPython.html.widgets` has moved to `ipywidgets`.\n",
      "\n",
      "C:\\Anaconda3\\lib\\site-packages\\IPython\\utils\\traitlets.py:5: UserWarning:\n",
      "\n",
      "IPython.utils.traitlets has moved to a top-level traitlets package.\n",
      "\n"
     ]
    },
    {
     "data": {
      "application/javascript": [
       "window.genUID = function() {\n",
       "    return 'xxxxxxxx-xxxx-4xxx-yxxx-xxxxxxxxxxxx'.replace(/[xy]/g, function(c) {\n",
       "        var r = Math.random()*16|0, v = c == 'x' ? r : (r&0x3|0x8);\n",
       "        return v.toString(16);\n",
       "    });\n",
       "};\n",
       "\n",
       "var IPYTHON_VERSION = '3';\n",
       "\n",
       "require([\"widgets/js/widget\", \"widgets/js/manager\"], function (widget, manager) {\n",
       "    if (!('DOMWidgetView' in widget)) {\n",
       "\n",
       "        // we're in IPython2, things moved a bit from 2 --> 3.\n",
       "        // construct the expected IPython3 widget API\n",
       "        IPYTHON_VERSION = '2';\n",
       "        manager = {WidgetManager: widget};\n",
       "        widget = {DOMWidgetView: IPython.DOMWidgetView};\n",
       "    }\n",
       "\n",
       "    var GraphView = widget.DOMWidgetView.extend({\n",
       "        render: function(){\n",
       "            var that = this;\n",
       "\n",
       "            var graphId = window.genUID();\n",
       "            var loadingId = 'loading-'+graphId;\n",
       "\n",
       "\n",
       "            var _graph_url = that.model.get('_graph_url');\n",
       "\n",
       "            // variable plotlyDomain in the case of enterprise\n",
       "            var url_parts = _graph_url.split('/');\n",
       "            var plotlyDomain = url_parts[0] + '//' + url_parts[2];\n",
       "\n",
       "            if(!('plotlyDomains' in window)){\n",
       "                window.plotlyDomains = {};\n",
       "            }\n",
       "            window.plotlyDomains[graphId] = plotlyDomain;\n",
       "\n",
       "            // Place IFrame in output cell div `$el`\n",
       "            that.$el.css('width', '100%');\n",
       "            that.$graph = $(['<iframe id=\"'+graphId+'\"',\n",
       "                             'src=\"'+_graph_url+'.embed\"',\n",
       "                             'seamless',\n",
       "                             'style=\"border: none;\"',\n",
       "                             'width=\"100%\"',\n",
       "                             'height=\"600\">',\n",
       "                             '</iframe>'].join(' '));\n",
       "            that.$graph.appendTo(that.$el);\n",
       "\n",
       "            that.$loading = $('<div id=\"'+loadingId+'\">Initializing...</div>')\n",
       "                            .appendTo(that.$el);\n",
       "\n",
       "            // for some reason the 'width' is being changed in IPython 3.0.0\n",
       "            // for the containing `div` element. There's a flicker here, but\n",
       "            // I was unable to fix it otherwise.\n",
       "            setTimeout(function ()  {\n",
       "                if (IPYTHON_VERSION === '3') {\n",
       "                    $('#' + graphId)[0].parentElement.style.width = '100%';\n",
       "                }\n",
       "            }, 500);\n",
       "\n",
       "            // initialize communication with the iframe\n",
       "            if(!('pingers' in window)){\n",
       "                window.pingers = {};\n",
       "            }\n",
       "\n",
       "            window.pingers[graphId] = setInterval(function() {\n",
       "                that.graphContentWindow = $('#'+graphId)[0].contentWindow;\n",
       "                that.graphContentWindow.postMessage({task: 'ping'}, plotlyDomain);\n",
       "            }, 200);\n",
       "\n",
       "            // Assign a message listener to the 'message' events\n",
       "            // from iframe's postMessage protocol.\n",
       "            // Filter the messages by iframe src so that the right message\n",
       "            // gets passed to the right widget\n",
       "            if(!('messageListeners' in window)){\n",
       "                 window.messageListeners = {};\n",
       "            }\n",
       "\n",
       "            window.messageListeners[graphId] = function(e) {\n",
       "                if(_graph_url.indexOf(e.origin)>-1) {\n",
       "                    var frame = document.getElementById(graphId);\n",
       "\n",
       "                    if(frame === null){\n",
       "                        // frame doesn't exist in the dom anymore, clean up it's old event listener\n",
       "                        window.removeEventListener('message', window.messageListeners[graphId]);\n",
       "                        clearInterval(window.pingers[graphId]);\n",
       "                    } else if(frame.contentWindow === e.source) {\n",
       "                        // TODO: Stop event propagation, so each frame doesn't listen and filter\n",
       "                        var frameContentWindow = $('#'+graphId)[0].contentWindow;\n",
       "                        var message = e.data;\n",
       "\n",
       "                        if('pong' in message && message.pong) {\n",
       "                            $('#loading-'+graphId).hide();\n",
       "                            clearInterval(window.pingers[graphId]);\n",
       "                            that.send({event: 'pong', graphId: graphId});\n",
       "                        } else if (message.type==='hover' ||\n",
       "                                   message.type==='zoom'  ||\n",
       "                                   message.type==='click' ||\n",
       "                                   message.type==='unhover') {\n",
       "\n",
       "                            // click and hover events contain all of the data in the traces,\n",
       "                            // which can be a very large object and may take a ton of time\n",
       "                            // to pass to the python backend. Strip out the data, and require\n",
       "                            // the user to call get_figure if they need trace information\n",
       "                            if(message.type !== 'zoom') {\n",
       "                                for(var i in message.points) {\n",
       "                                    delete message.points[i].data;\n",
       "                                    delete message.points[i].fullData;\n",
       "                                }\n",
       "                            }\n",
       "                            that.send({event: message.type, message: message, graphId: graphId});\n",
       "                        } else if (message.task === 'getAttributes') {\n",
       "                            that.send({event: 'getAttributes', response: message.response});\n",
       "                        }\n",
       "                    }\n",
       "                }\n",
       "            };\n",
       "\n",
       "            window.removeEventListener('message', window.messageListeners[graphId]);\n",
       "            window.addEventListener('message', window.messageListeners[graphId]);\n",
       "\n",
       "        },\n",
       "\n",
       "        update: function() {\n",
       "            // Listen for messages from the graph widget in python\n",
       "            var jmessage = this.model.get('_message');\n",
       "            var message = JSON.parse(jmessage);\n",
       "\n",
       "            // check for duplicate messages\n",
       "            if(!('messageIds' in window)){\n",
       "                window.messageIds = {};\n",
       "            }\n",
       "\n",
       "            if(!(message.uid in window.messageIds)){\n",
       "                // message hasn't been received yet, do stuff\n",
       "                window.messageIds[message.uid] = true;\n",
       "\n",
       "                if (message.fadeTo) {\n",
       "                    this.fadeTo(message);\n",
       "                } else {\n",
       "                    var plot = $('#' + message.graphId)[0].contentWindow;\n",
       "                    plot.postMessage(message, window.plotlyDomains[message.graphId]);\n",
       "                }\n",
       "            }\n",
       "\n",
       "            return GraphView.__super__.update.apply(this);\n",
       "        },\n",
       "\n",
       "        /**\n",
       "         * Wrapper for jquery's `fadeTo` function.\n",
       "         *\n",
       "         * @param message Contains the id we need to find the element.\n",
       "         */\n",
       "        fadeTo: function (message) {\n",
       "            var plot = $('#' + message.graphId);\n",
       "            plot.fadeTo(message.duration, message.opacity);\n",
       "        }\n",
       "    });\n",
       "\n",
       "    // Register the GraphView with the widget manager.\n",
       "    manager.WidgetManager.register_widget_view('GraphView', GraphView);\n",
       "\n",
       "});\n",
       "\n",
       "//@ sourceURL=graphWidget.js\n"
      ],
      "text/plain": [
       "<IPython.core.display.Javascript object>"
      ]
     },
     "metadata": {},
     "output_type": "display_data"
    }
   ],
   "source": [
    "%matplotlib inline\n",
    "\n",
    "# Imports\n",
    "import numpy as np\n",
    "import pandas as pd\n",
    "import seaborn as sns\n",
    "import matplotlib.pyplot as plt  \n",
    "import plotly.plotly as py\n",
    "import cufflinks as cf\n",
    "from ipywidgets import *  \n",
    "from IPython.display import display  \n",
    "#from IPython.html import widgets\n",
    "from pivottablejs import pivot_ui\n",
    "from plotly.graph_objs import *\n",
    "from plotly.widgets import *\n",
    "\n",
    "# Set default plot style\n",
    "#plt.style.use('ggplot')"
   ]
  },
  {
   "cell_type": "code",
   "execution_count": 2,
   "metadata": {
    "collapsed": false
   },
   "outputs": [],
   "source": [
    "# Calculates the total value contained in the tailings\n",
    "# based on the total tonnage, mineral grades, and spot prices\n",
    "#\n",
    "# gold_grade: grade of gold left in tailings, estimated in ppm, g/t\n",
    "# gold_price: spot price of gold, in USD/Oz\n",
    "#\n",
    "# tungsten_grade: grade of tungsten (WO3) in the tailings, estimated ppm, g/t\n",
    "# tungsten_price: spot price of tungsten (WO3), in USD/metric ton unit of WO3\n",
    "#\n",
    "# returns Full value in tailings, in $Million US\n",
    "#\n",
    "def CalculateTailingValue_Interactive(gold_grade:widgets.FloatText(value=0.3, description='Remaining Gold Grade (in ppm, t/g)'),\n",
    "                          tungsten_grade:widgets.FloatText(value=300, description='Remaining Tungsten Grade (in ppm, t/g)'),\n",
    "                          gold_price:widgets.FloatSlider(min=100, max=2000, value=1000,\n",
    "                                                         description='Gold Spot Price ($US/Oz)')=1000,\n",
    "                          tungsten_price:widgets.FloatSlider(min=50, max=500, value=320,\n",
    "                                                             description='WO3 Spot Price ($US/tonne)')=320,\n",
    "                          in_millions:(True)=True):\n",
    "    \n",
    "    ValueAUPerTonneTailings = gold_grade * gold_price/31.1               # In USD/t\n",
    "    ValueWPerTonneTailings  = tungsten_grade * tungsten_price/7.93/1000  # In USD/t\n",
    "    CombinedValuePerTonne = ValueAUPerTonneTailings + ValueWPerTonneTailings\n",
    "    \n",
    "    FullValue = TailingTonnage * CombinedValuePerTonne    # In $US\n",
    "    if (in_millions):\n",
    "        FullValue = FullValue / 1000000                       # In $M US\n",
    "    \n",
    "    df = BuildData(FullValue);\n",
    "    return PlotData(df);"
   ]
  },
  {
   "cell_type": "code",
   "execution_count": 3,
   "metadata": {
    "collapsed": true
   },
   "outputs": [],
   "source": [
    "# Calculates the total value contained in the tailings\n",
    "# based on the total tonnage, mineral grades, and spot prices\n",
    "#\n",
    "# gold_grade: grade of gold left in tailings, estimated in ppm, g/t\n",
    "# gold_price: spot price of gold, in USD/Oz\n",
    "#\n",
    "# tungsten_grade: grade of tungsten (WO3) in the tailings, estimated ppm, g/t\n",
    "# tungsten_price: spot price of tungsten (WO3), in USD/metric ton unit of WO3\n",
    "#\n",
    "# returns Full value in tailings, in $Million US\n",
    "#\n",
    "def CalculateTailingValue(gold_grade,\n",
    "                          tungsten_grade,\n",
    "                          gold_price=1000,\n",
    "                          tungsten_price=320,\n",
    "                          in_millions=True):\n",
    "    \n",
    "    ValueAUPerTonneTailings = gold_grade * gold_price/31.1               # In USD/t\n",
    "    ValueWPerTonneTailings  = tungsten_grade * tungsten_price/7.93/1000  # In USD/t\n",
    "    CombinedValuePerTonne = ValueAUPerTonneTailings + ValueWPerTonneTailings\n",
    "    \n",
    "    FullValue = TailingTonnage * CombinedValuePerTonne    # In $US\n",
    "    if (in_millions):\n",
    "        FullValue = FullValue / 1000000                       # In $M US\n",
    "    \n",
    "    return FullValue;"
   ]
  },
  {
   "cell_type": "code",
   "execution_count": 4,
   "metadata": {
    "collapsed": true
   },
   "outputs": [],
   "source": [
    "# Creates a dataset that contains a the tailing value based on a fractional amount\n",
    "# of the tailings processed, and a fraction recovery amount.\n",
    "#\n",
    "# returns DataFrame of all tailing values based on fraction reprocessed and recovered.\n",
    "#\n",
    "def BuildData(TailingsValue):\n",
    "    FractionReprocessed = pd.DataFrame({'Reprocessed':[1, 0.9, 0.8, 0.7, 0.6, 0.5, 0.4, 0.3]})\n",
    "    FractionRecovered = pd.DataFrame({'Recovered':[1, 0.9, 0.8, 0.7, 0.6, 0.5, 0.4, 0.3]})\n",
    "\n",
    "\n",
    "    df = pd.DataFrame({'Reprocessed':np.zeros(0).astype(float),\n",
    "                   'Recovered':np.zeros(0).astype(float),\n",
    "                   'Value':np.zeros(0).astype(float)})\n",
    "\n",
    "    rowindex = 0\n",
    "\n",
    "    for i in FractionReprocessed['Reprocessed']:\n",
    "        for j in FractionRecovered['Recovered']:\n",
    "            df.loc[rowindex, 'Reprocessed'] = i\n",
    "            df.loc[rowindex, 'Recovered'] = j\n",
    "            df.loc[rowindex, 'Value'] = TailingsValue * i * j\n",
    "            rowindex = rowindex + 1\n",
    "\n",
    "    return df"
   ]
  },
  {
   "cell_type": "code",
   "execution_count": 5,
   "metadata": {
    "collapsed": true
   },
   "outputs": [],
   "source": [
    "plot_types = ['seaborn','plotly']\n",
    "\n",
    "# Plot the results\n",
    "def PlotData(df, plot_type='plotly'):\n",
    "    \n",
    "    if plot_type == 'seaborn':\n",
    "        sns.set_style('witegrid')\n",
    "        fig = sns.pointplot(x='Reprocessed', y='Value', hue='Recovered', data=df, color_palette='deep');\n",
    "        sns.despine()\n",
    "    elif plot_type == 'plotly':\n",
    "        py.sign_in('pdh-eng', 'ncw95i0dq8')\n",
    "        fig = py.iplot(\n",
    "            {\n",
    "                'data': [\n",
    "                    {\n",
    "                        'x': df[df['Recovered']==convert]['Reprocessed'],\n",
    "                        'y': df[df['Recovered']==convert]['Value'],\n",
    "                        'name': '{}%'.format(convert*100), \n",
    "                        'mode': 'line',\n",
    "                    } for convert in [1.0, 0.9, 0.8, 0.7, 0.6, 0.5]\n",
    "                ],\n",
    "                'layout': {\n",
    "                    'xaxis': {'title': 'Fraction of tailings reprocessed', 'type': 'log'},\n",
    "                    'yaxis': {'title': 'Recovered Value ($M US)'}\n",
    "                }\n",
    "        }, filename='Tail-Lite/TailingsValue')\n",
    "        \n",
    "    \n",
    "    return fig;"
   ]
  },
  {
   "cell_type": "code",
   "execution_count": 6,
   "metadata": {
    "collapsed": true
   },
   "outputs": [],
   "source": [
    "# STARTING INPUTS\n",
    "TailingTonnage = 55774649\n",
    "MissedGoldGrade = 0.3       # Estimated ppm, g/t\n",
    "UncapturedWGrade = 300      # Estimated ppm. g/t\n",
    "\n",
    "SpotGoldPrice = 1000        # USD/Oz\n",
    "SpotTungstenPrice = 320     # USD/metric ton unit of WO3\n",
    "# assume 414 ppm W is equivalent to 0.5 g/t Au at these prices"
   ]
  },
  {
   "cell_type": "code",
   "execution_count": null,
   "metadata": {
    "collapsed": false
   },
   "outputs": [],
   "source": [
    "interact(CalculateTailingValue)"
   ]
  },
  {
   "cell_type": "code",
   "execution_count": 7,
   "metadata": {
    "collapsed": false
   },
   "outputs": [
    {
     "name": "stdout",
     "output_type": "stream",
     "text": [
      "Full tailings value: 1213.2$M US\n"
     ]
    }
   ],
   "source": [
    "# Calculate total value in tailings\n",
    "FullTailingsValue = CalculateTailingValue(gold_grade=MissedGoldGrade, tungsten_grade=UncapturedWGrade,\n",
    "                      gold_price=SpotGoldPrice, tungsten_price=SpotTungstenPrice)\n",
    "\n",
    "print('Full tailings value: {0:.1f}$M US'.format(FullTailingsValue))"
   ]
  },
  {
   "cell_type": "code",
   "execution_count": 8,
   "metadata": {
    "collapsed": true
   },
   "outputs": [],
   "source": [
    "df = BuildData(FullTailingsValue)\n",
    "fig = PlotData(df);"
   ]
  },
  {
   "cell_type": "code",
   "execution_count": null,
   "metadata": {
    "collapsed": false
   },
   "outputs": [],
   "source": [
    "#g = GraphWidget('http://plot.ly/~pdh-eng/Tail-Lite/TailingsValue')\n",
    "g = GraphWidget('https://plot.ly/~pdh-eng/20/recovered-value-m-us-vs-fraction-of-tailings-reprocessed/')\n",
    "\n",
    "def UpdateChart(_):\n",
    "    # first calculate the updated tailings value based on the inputs\n",
    "    TailingsValue = CalculateTailingValue(gold_grade=gold_grade_input.value,\n",
    "                                          gold_price=gold_price_slider.value,\n",
    "                                          tungsten_grade=tungsten_grade_input.value,\n",
    "                                          tungsten_price=tungsten_price_slider.value)\n",
    "    print (TailingsValue)\n",
    "    df = BuildData(TailingsValue)\n",
    "    \n",
    "    # plot the data and interact with it.\n",
    "    g.restyle({'x':[[]], 'y':[[]]})\n",
    "    '''\n",
    "    g.add_traces({\n",
    "                        'x': df[df['Recovered']==convert]['Reprocessed'],\n",
    "                        'y': df[df['Recovered']==convert]['Value'],\n",
    "                        'name': '{}%'.format(convert*100), \n",
    "                        'mode': 'line',\n",
    "                    } for convert in [1.0, 0.9, 0.8, 0.7, 0.6, 0.5])\n",
    "    '''\n",
    "    print('Got here')"
   ]
  },
  {
   "cell_type": "code",
   "execution_count": null,
   "metadata": {
    "collapsed": false
   },
   "outputs": [],
   "source": [
    "# prepare the inputs widgets\n",
    "\n",
    "# text inputs for grade levels\n",
    "gold_label = widgets.Text('Remaining Gold Grade (in ppm, t/g)')\n",
    "gold_label.border_style = 'none'\n",
    "gold_label.disabled = True\n",
    "\n",
    "tungsten_label = widgets.Text('Remaining Tungsten Grade (in ppm, t/g)')\n",
    "tungsten_label.border_style = 'none'\n",
    "tungsten_label.disabled = True\n",
    "\n",
    "# text inputs for grade levels\n",
    "gold_grade_input = widgets.FloatText(value=0.3)      #, description='Remaining Gold Grade (in ppm, t/g)')\n",
    "tungsten_grade_input = widgets.FloatText(value=300)  #, description='Remaining Tungsten Grade (in ppm, t/g)')\n",
    "\n",
    "hbox1 = widgets.HBox([gold_label, gold_grade_input,tungsten_label, tungsten_grade_input])\n",
    "\n",
    "# slider inputs for spot prices\n",
    "gold_price_slider = widgets.FloatSlider(min=100, max=2000, value=1000,\n",
    "                                        description='Gold Spot Price ($US/Oz)') \n",
    "tungsten_price_slider = widgets.FloatSlider(min=50, max=500, value=320,\n",
    "                                            description='Tungsten Spot Price ($US/metric ton)')\n",
    "\n",
    "# add a button to refresh the chart.\n",
    "button = widgets.Button(description='Refresh Chart', background_color='lightblue')\n",
    "button.on_click(UpdateChart)\n",
    "\n",
    "# add a recovered slider\n",
    "recovery_slider = widgets.FloatSlider(min=0, max=100, value=100,\n",
    "                                        description='Recovery Percent')\n",
    "\n",
    "interactions = widgets.VBox([hbox1, gold_price_slider, tungsten_price_slider, recovery_slider, button])"
   ]
  },
  {
   "cell_type": "code",
   "execution_count": null,
   "metadata": {
    "collapsed": false,
    "scrolled": false
   },
   "outputs": [],
   "source": [
    "display(vbox)\n",
    "#display(fig)"
   ]
  },
  {
   "cell_type": "code",
   "execution_count": null,
   "metadata": {
    "collapsed": true
   },
   "outputs": [],
   "source": [
    "layout = Layout(yaxis=YAxis(autorange='reversed'), width=500, showlegend=False)\n",
    "\n",
    "g.relayout(layout)"
   ]
  },
  {
   "cell_type": "code",
   "execution_count": null,
   "metadata": {
    "collapsed": false
   },
   "outputs": [],
   "source": [
    "g.restyle({'x':[[]], 'y':[[]]})"
   ]
  },
  {
   "cell_type": "code",
   "execution_count": null,
   "metadata": {
    "collapsed": false
   },
   "outputs": [],
   "source": [
    "print(df.head())"
   ]
  },
  {
   "cell_type": "code",
   "execution_count": null,
   "metadata": {
    "collapsed": false
   },
   "outputs": [],
   "source": [
    "g.add_traces({\n",
    "                'data': [\n",
    "                    {\n",
    "                        'x': df[df['Recovered']==convert]['Reprocessed'],\n",
    "                        'y': df[df['Recovered']==convert]['Value'],\n",
    "                        'name': '{}%'.format(convert*100), \n",
    "                        'mode': 'line',\n",
    "                    } for convert in [1.0, 0.9, 0.8, 0.7, 0.6, 0.5]\n",
    "                ]})"
   ]
  },
  {
   "cell_type": "code",
   "execution_count": null,
   "metadata": {
    "collapsed": true
   },
   "outputs": [],
   "source": []
  },
  {
   "cell_type": "code",
   "execution_count": null,
   "metadata": {
    "collapsed": true
   },
   "outputs": [],
   "source": [
    "display(g)"
   ]
  },
  {
   "cell_type": "code",
   "execution_count": null,
   "metadata": {
    "collapsed": true
   },
   "outputs": [],
   "source": []
  },
  {
   "cell_type": "code",
   "execution_count": null,
   "metadata": {
    "collapsed": true
   },
   "outputs": [],
   "source": []
  },
  {
   "cell_type": "code",
   "execution_count": null,
   "metadata": {
    "collapsed": false
   },
   "outputs": [],
   "source": [
    "hbox.align = 'end'"
   ]
  },
  {
   "cell_type": "code",
   "execution_count": null,
   "metadata": {
    "collapsed": false
   },
   "outputs": [],
   "source": [
    "help(display)"
   ]
  },
  {
   "cell_type": "code",
   "execution_count": null,
   "metadata": {
    "collapsed": false
   },
   "outputs": [],
   "source": [
    "help(plt.style)"
   ]
  },
  {
   "cell_type": "code",
   "execution_count": 47,
   "metadata": {
    "collapsed": true
   },
   "outputs": [],
   "source": [
    "def CreatePlot():\n",
    "    fig, ax = plt.subplots(1,1)\n",
    "    plt.xlabel('Fraction of tailings reprocessed', size=14);\n",
    "    plt.ylabel('Tailings Value (in $M US)', size=14);\n",
    "    plt.title('Tailings Value', size=18);\n",
    "    return ax"
   ]
  },
  {
   "cell_type": "code",
   "execution_count": 55,
   "metadata": {
    "collapsed": false
   },
   "outputs": [],
   "source": [
    "def UpdatePlot(ax, recovered=1.0):\n",
    "    ax.plot(df[df['Recovered'] == recovered]['Reprocessed'], df[df['Recovered'] == recovered]['Value']);\n",
    "    plt.draw()"
   ]
  },
  {
   "cell_type": "code",
   "execution_count": 56,
   "metadata": {
    "collapsed": false
   },
   "outputs": [
    {
     "data": {
      "image/png": "[encoded data removed]",
      "text/plain": [
       "<matplotlib.figure.Figure at 0x8e62b38>"
      ]
     },
     "metadata": {},
     "output_type": "display_data"
    }
   ],
   "source": [
    "ax = CreatePlot()\n",
    "UpdatePlot(ax, 1.0)"
   ]
  },
  {
   "cell_type": "code",
   "execution_count": 58,
   "metadata": {
    "collapsed": false
   },
   "outputs": [
    {
     "data": {
      "text/plain": [
       "<matplotlib.figure.Figure at 0x8e7ca20>"
      ]
     },
     "metadata": {},
     "output_type": "display_data"
    }
   ],
   "source": [
    "UpdatePlot(ax, 0.5)\n",
    "plt.show()"
   ]
  },
  {
   "cell_type": "code",
   "execution_count": 82,
   "metadata": {
    "collapsed": false
   },
   "outputs": [
    {
     "name": "stdout",
     "output_type": "stream",
     "text": [
      "[ 0.5  0.6  0.7  0.8  0.9  1. ]\n"
     ]
    },
    {
     "data": {
      "image/png": "[encoded data removed]",
      "text/plain": [
       "<matplotlib.figure.Figure at 0x9aae48>"
      ]
     },
     "metadata": {},
     "output_type": "display_data"
    },
    {
     "name": "stdout",
     "output_type": "stream",
     "text": [
      "[2, 5, 6, 3, 6, 7]\n"
     ]
    },
    {
     "name": "stderr",
     "output_type": "stream",
     "text": [
      "C:\\Anaconda3\\lib\\site-packages\\matplotlib\\axes\\_axes.py:475: UserWarning:\n",
      "\n",
      "No labelled objects found. Use label='...' kwarg on individual plots.\n",
      "\n"
     ]
    },
    {
     "data": {
      "image/png": "[encoded data removed]",
      "text/plain": [
       "<matplotlib.figure.Figure at 0x8ea48d0>"
      ]
     },
     "metadata": {},
     "output_type": "display_data"
    }
   ],
   "source": [
    "#preparing the plot \n",
    "data = pd.DataFrame()\n",
    "x = np.arange(0.5, 1.01, 0.1)\n",
    "print(x)\n",
    "plots = dict()\n",
    "fig, ax = plt.subplots()\n",
    "plt.xlabel('Fraction of tailings reprocessed', size=14);\n",
    "plt.ylabel('Tailings Value (in $M US)', size=14);\n",
    "plt.title('Tailings Value', size=18);\n",
    "\n",
    "#add button that updates the graph\n",
    "button = widgets.Button(description=\"Update the graph\")\n",
    "display(button)\n",
    "\n",
    "def AppendData(_):\n",
    "    text = 'test'\n",
    "    values = [2, 5, 6, 3, 6, 7]\n",
    "    print(values)\n",
    "    data[text] = values\n",
    "    data[text] = data[text].astype(float)\n",
    "    ax.plot(x, data[text]) #, label=text)\n",
    "    plt.legend()\n",
    "    plt.draw()\n",
    "    \n",
    "#function to deal with the checkbox update button       \n",
    "def on_button_clicked(b):  \n",
    "    plt.legend()\n",
    "    plt.draw()\n",
    "    \n",
    "button.on_click(AppendData)  \n",
    "plt.show()  \n"
   ]
  },
  {
   "cell_type": "code",
   "execution_count": 83,
   "metadata": {
    "collapsed": false
   },
   "outputs": [
    {
     "name": "stdout",
     "output_type": "stream",
     "text": [
      "   test\n",
      "0     2\n",
      "1     5\n",
      "2     6\n",
      "3     3\n",
      "4     6\n",
      "5     7\n"
     ]
    }
   ],
   "source": [
    "print(data)"
   ]
  },
  {
   "cell_type": "code",
   "execution_count": 84,
   "metadata": {
    "collapsed": false
   },
   "outputs": [
    {
     "data": {
      "text/plain": [
       "[<matplotlib.lines.Line2D at 0x9ff1518>]"
      ]
     },
     "execution_count": 84,
     "metadata": {},
     "output_type": "execute_result"
    },
    {
     "data": {
      "image/png": "[encoded data removed]",
      "text/plain": [
       "<matplotlib.figure.Figure at 0x8ed4828>"
      ]
     },
     "metadata": {},
     "output_type": "display_data"
    }
   ],
   "source": [
    "plt.plot(x, data['test'])"
   ]
  },
  {
   "cell_type": "code",
   "execution_count": 63,
   "metadata": {
    "collapsed": true
   },
   "outputs": [],
   "source": [
    "def AppendData(text, values):\n",
    "    data[text] = values\n",
    "    data[text] = data[text].astype(float)\n",
    "    plots[text], = ax.plot(x, data[text], label=text)\n",
    "    plt.legend()\n",
    "    plt.draw()"
   ]
  },
  {
   "cell_type": "code",
   "execution_count": null,
   "metadata": {
    "collapsed": true
   },
   "outputs": [],
   "source": [
    "values = [2, 5, 6, 3, 6, 7, 2]\n"
   ]
  },
  {
   "cell_type": "code",
   "execution_count": 73,
   "metadata": {
    "collapsed": false
   },
   "outputs": [
    {
     "name": "stdout",
     "output_type": "stream",
     "text": [
      "[]\n"
     ]
    }
   ],
   "source": [
    "print (x)"
   ]
  },
  {
   "cell_type": "code",
   "execution_count": null,
   "metadata": {
    "collapsed": true
   },
   "outputs": [],
   "source": []
  },
  {
   "cell_type": "code",
   "execution_count": 15,
   "metadata": {
    "collapsed": false
   },
   "outputs": [
    {
     "data": {
      "image/png": "[encoded data removed]",
      "text/plain": [
       "<matplotlib.figure.Figure at 0x8edb9e8>"
      ]
     },
     "metadata": {},
     "output_type": "display_data"
    }
   ],
   "source": [
    "\n",
    "plt.figure()\n",
    "\n",
    "for convert in [1.0, 0.9, 0.8, 0.7, 0.6, 0.5]:\n",
    "    plt.plot(df[df['Recovered'] == convert]['Reprocessed'], df[df['Recovered'] == convert]['Value'])\n",
    "    \n",
    "plt.xlabel('Fraction of tailings reprocessed', size=14);\n",
    "plt.ylabel('Tailings Value (in $M US)', size=14);\n",
    "plt.title('Tailings Value', size=18);"
   ]
  },
  {
   "cell_type": "code",
   "execution_count": null,
   "metadata": {
    "collapsed": true
   },
   "outputs": [],
   "source": []
  },
  {
   "cell_type": "code",
   "execution_count": null,
   "metadata": {
    "collapsed": true
   },
   "outputs": [],
   "source": []
  },
  {
   "cell_type": "code",
   "execution_count": null,
   "metadata": {
    "collapsed": false
   },
   "outputs": [],
   "source": [
    "print(gold_price.value)"
   ]
  },
  {
   "cell_type": "code",
   "execution_count": null,
   "metadata": {
    "collapsed": false
   },
   "outputs": [],
   "source": [
    "plt.plot([1,2,3,4]);\n",
    "plt.ylabel('some numbers');"
   ]
  },
  {
   "cell_type": "code",
   "execution_count": null,
   "metadata": {
    "collapsed": false
   },
   "outputs": [],
   "source": [
    "def test_ploting(a):\n",
    "    fig, ax = plt.subplots(figsize=(4,3), subplot_kw={'axisbg':'#EEEEEE', 'axisbelow':True})\n",
    "    x = np.linspace(0, 10, 1000) * a\n",
    "    ax.plot(x);\n",
    "    plt.ylabel('some numbers');\n",
    "    \n",
    "    return fig #plt.show()"
   ]
  },
  {
   "cell_type": "code",
   "execution_count": null,
   "metadata": {
    "collapsed": false
   },
   "outputs": [],
   "source": [
    "#from ipywidgets import StaticInteract\n",
    "\n",
    "gui1 = interactive(test_ploting, a=tungsten_price_slider)\n",
    "display(gui1)\n",
    "#hbox.on_displayed(lambda _: f(**i.kwargs))\n",
    "#display(widgets.FloatSlider(min=100, max=2000, value=1000, description='Gold Spot Price ($US/Oz)', orientation='vertical'))"
   ]
  },
  {
   "cell_type": "code",
   "execution_count": null,
   "metadata": {
    "collapsed": false
   },
   "outputs": [],
   "source": [
    "hbox = widgets.HBox([gold_grade_input, tungsten_grade_input])\n",
    "#container.children=[gold_grade_input, tungsten_grade_input]\n",
    "display(hbox)\n",
    "i\n",
    "hbox.on_displayed(lambda _: f(**i.kwargs))"
   ]
  },
  {
   "cell_type": "code",
   "execution_count": null,
   "metadata": {
    "collapsed": false
   },
   "outputs": [],
   "source": [
    "\n",
    "\n",
    "\n",
    "\n",
    "\n",
    "display(gold_price_slider)\n",
    "\n",
    "plt.plot([1,2,3,4]);\n",
    "plt.ylabel('some numbers');\n",
    "plt.show()\n",
    "\n",
    "display(tungsten_price_slider)"
   ]
  },
  {
   "cell_type": "code",
   "execution_count": null,
   "metadata": {
    "collapsed": true
   },
   "outputs": [],
   "source": [
    "plt.show()"
   ]
  },
  {
   "cell_type": "code",
   "execution_count": null,
   "metadata": {
    "collapsed": true
   },
   "outputs": [],
   "source": []
  },
  {
   "cell_type": "code",
   "execution_count": null,
   "metadata": {
    "collapsed": true
   },
   "outputs": [],
   "source": []
  },
  {
   "cell_type": "code",
   "execution_count": null,
   "metadata": {
    "collapsed": true
   },
   "outputs": [],
   "source": [
    "%matplotlib inline\n",
    "import numpy as np\n",
    "import matplotlib.pyplot as plt\n",
    "\n",
    "def testplot(amplitude, color):\n",
    "    fig, ax = plt.subplots(figsize=(4, 3),\n",
    "                           subplot_kw={'axisbg':'#EEEEEE',\n",
    "                                       'axisbelow':True})\n",
    "    ax.grid(color='w', linewidth=2, linestyle='solid')\n",
    "    x = np.linspace(0, 10, 1000)\n",
    "    ax.plot(x, amplitude * np.sin(x), color=color,\n",
    "            lw=5, alpha=0.4)\n",
    "    ax.set_xlim(0, 10)\n",
    "    ax.set_ylim(-1.1, 1.1)\n",
    "    return fig"
   ]
  },
  {
   "cell_type": "code",
   "execution_count": null,
   "metadata": {
    "collapsed": false
   },
   "outputs": [],
   "source": [
    "from ipywidgets import *\n",
    "\n",
    "interact(testplot, amplitude=widgets.FloatSlider(min=0.1, max=1.0, step=0.1), color=widgets.RadioButtons(options=['blue', 'green', 'red']))"
   ]
  },
  {
   "cell_type": "code",
   "execution_count": null,
   "metadata": {
    "collapsed": false
   },
   "outputs": [],
   "source": [
    "help(widgets.RadioButtons)"
   ]
  }
 ],
 "metadata": {
  "kernelspec": {
   "display_name": "Python 3",
   "language": "python",
   "name": "python3"
  },
  "language_info": {
   "codemirror_mode": {
    "name": "ipython",
    "version": 3
   },
   "file_extension": ".py",
   "mimetype": "text/x-python",
   "name": "python",
   "nbconvert_exporter": "python",
   "pygments_lexer": "ipython3",
   "version": "3.4.3"
  }
 },
 "nbformat": 4,
 "nbformat_minor": 0
}
